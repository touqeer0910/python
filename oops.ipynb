{
 "cells": [
  {
   "cell_type": "markdown",
   "metadata": {},
   "source": [
    "we can create objects from classes"
   ]
  },
  {
   "cell_type": "code",
   "execution_count": 271,
   "metadata": {},
   "outputs": [],
   "source": [
    "class Account:\n",
    "    \"\"\"this represents account \n",
    "    \"\"\"\n",
    "    balance = 0\n",
    "    number = None\n",
    "\n",
    "    def deposit(amount):\n",
    "        pass\n",
    "    def withdraw(amount):\n",
    "        pass"
   ]
  },
  {
   "cell_type": "markdown",
   "metadata": {},
   "source": [
    "we can create objects from classes "
   ]
  },
  {
   "cell_type": "code",
   "execution_count": 272,
   "metadata": {},
   "outputs": [
    {
     "data": {
      "text/plain": [
       "__main__.Account"
      ]
     },
     "execution_count": 272,
     "metadata": {},
     "output_type": "execute_result"
    }
   ],
   "source": [
    "my_saving_account = Account() #this is new object created\n",
    "type(my_saving_account)"
   ]
  },
  {
   "cell_type": "code",
   "execution_count": 273,
   "metadata": {},
   "outputs": [],
   "source": [
    "my_saving_account.balance = 100000\n",
    "my_saving_account.number =8801293631"
   ]
  },
  {
   "cell_type": "code",
   "execution_count": 274,
   "metadata": {},
   "outputs": [
    {
     "data": {
      "text/plain": [
       "<__main__.Account at 0x1ba989f2f60>"
      ]
     },
     "execution_count": 274,
     "metadata": {},
     "output_type": "execute_result"
    }
   ],
   "source": [
    "my_saving_account"
   ]
  },
  {
   "cell_type": "code",
   "execution_count": 275,
   "metadata": {},
   "outputs": [],
   "source": [
    "your_savings_account =Account()\n",
    "your_savings_account.balance = 20000\n",
    "your_savings_account.number = 9700040366"
   ]
  },
  {
   "cell_type": "code",
   "execution_count": 276,
   "metadata": {},
   "outputs": [
    {
     "name": "stdout",
     "output_type": "stream",
     "text": [
      "100000\n",
      "8801293631\n",
      "20000\n",
      "9700040366\n"
     ]
    }
   ],
   "source": [
    "print(my_saving_account.balance)\n",
    "print(my_saving_account.number)\n",
    "print(your_savings_account.balance)\n",
    "\n",
    "print(your_savings_account.number)"
   ]
  },
  {
   "cell_type": "code",
   "execution_count": 277,
   "metadata": {},
   "outputs": [],
   "source": [
    "class Account:\n",
    "    \"\"\"this defines the account\n",
    "    \"\"\"\n",
    "    ###class variables\n",
    "    account_type = None\n",
    "    def __init__(self, number=None, balance=0):\n",
    "        self.number = number\n",
    "        self.balance =balance\n",
    "\n",
    "    def withdraw(self,amount):\n",
    "        self.balance -= amount\n",
    "\n",
    "    def deposit (self,amount):\n",
    "        self.balance += amount    \n",
    "         \n",
    "    def print_balance(self):\n",
    "        print(f\"balance of {self.number} = {self.balance}\")     \n",
    "\n",
    "    "
   ]
  },
  {
   "cell_type": "code",
   "execution_count": 278,
   "metadata": {},
   "outputs": [],
   "source": [
    "#inheritance\n",
    "class SavingsAccount(Account):\n",
    "    account_type = \"savings\"\n",
    "class CurrentAccount(Account):\n",
    "    account_type = \"current\""
   ]
  },
  {
   "cell_type": "code",
   "execution_count": 279,
   "metadata": {},
   "outputs": [],
   "source": [
    "a = SavingsAccount(number=\"id001\", balance=100000000)\n",
    "b =SavingsAccount(number=\"id2\", balance=20000000)"
   ]
  },
  {
   "cell_type": "code",
   "execution_count": 280,
   "metadata": {},
   "outputs": [
    {
     "name": "stdout",
     "output_type": "stream",
     "text": [
      "balance of id001 = 100000000\n",
      "balance of id2 = 20000000\n"
     ]
    }
   ],
   "source": [
    "a.print_balance()\n",
    "b.print_balance()\n",
    "\n"
   ]
  },
  {
   "cell_type": "code",
   "execution_count": 281,
   "metadata": {},
   "outputs": [
    {
     "name": "stdout",
     "output_type": "stream",
     "text": [
      "balance of id001 = 99990000\n"
     ]
    }
   ],
   "source": [
    "a.withdraw(10000)\n",
    "a.print_balance()"
   ]
  },
  {
   "cell_type": "code",
   "execution_count": 282,
   "metadata": {},
   "outputs": [
    {
     "name": "stdout",
     "output_type": "stream",
     "text": [
      "balance of id2 = 20000100\n"
     ]
    }
   ],
   "source": [
    "b.deposit(100)\n",
    "b.print_balance()"
   ]
  },
  {
   "cell_type": "code",
   "execution_count": 283,
   "metadata": {},
   "outputs": [
    {
     "name": "stdout",
     "output_type": "stream",
     "text": [
      "savings\n"
     ]
    }
   ],
   "source": [
    "print(SavingsAccount.account_type)"
   ]
  },
  {
   "cell_type": "code",
   "execution_count": 284,
   "metadata": {},
   "outputs": [
    {
     "data": {
      "text/plain": [
       "True"
      ]
     },
     "execution_count": 284,
     "metadata": {},
     "output_type": "execute_result"
    }
   ],
   "source": [
    "\n",
    "issubclass(SavingsAccount, Account)"
   ]
  },
  {
   "cell_type": "code",
   "execution_count": 285,
   "metadata": {},
   "outputs": [
    {
     "data": {
      "text/plain": [
       "False"
      ]
     },
     "execution_count": 285,
     "metadata": {},
     "output_type": "execute_result"
    }
   ],
   "source": [
    "issubclass(SavingsAccount, CurrentAccount)"
   ]
  },
  {
   "cell_type": "code",
   "execution_count": 286,
   "metadata": {},
   "outputs": [
    {
     "data": {
      "text/plain": [
       "True"
      ]
     },
     "execution_count": 286,
     "metadata": {},
     "output_type": "execute_result"
    }
   ],
   "source": [
    "issubclass(CurrentAccount, CurrentAccount)"
   ]
  },
  {
   "cell_type": "code",
   "execution_count": 287,
   "metadata": {},
   "outputs": [],
   "source": [
    "class transaction:\n",
    "    def __init__(self, from_account, to_account): \n",
    "        self.from_account = from_account\n",
    "        self.to_account = to_account\n",
    "\n",
    "    def deposit(self, amount):\n",
    "        self.from_account.withdraw(amount)\n",
    "        self.to_account.deposit(amount)\n",
    "    \n",
    "        pass\n"
   ]
  },
  {
   "cell_type": "code",
   "execution_count": 288,
   "metadata": {},
   "outputs": [],
   "source": [
    "a = SavingsAccount(number=\"id001\", balance=100000000)\n",
    "b = SavingsAccount(number=\"id2\", balance=2)"
   ]
  },
  {
   "cell_type": "code",
   "execution_count": 290,
   "metadata": {},
   "outputs": [
    {
     "name": "stdout",
     "output_type": "stream",
     "text": [
      "balance of id001 = 99999500\n",
      "balance of id2 = 502\n"
     ]
    }
   ],
   "source": [
    "transaction = transaction(a,b)\n",
    "transaction.deposit(500)\n",
    "a.print_balance()\n",
    "b.print_balance()"
   ]
  }
 ],
 "metadata": {
  "kernelspec": {
   "display_name": "Python 3",
   "language": "python",
   "name": "python3"
  },
  "language_info": {
   "codemirror_mode": {
    "name": "ipython",
    "version": 3
   },
   "file_extension": ".py",
   "mimetype": "text/x-python",
   "name": "python",
   "nbconvert_exporter": "python",
   "pygments_lexer": "ipython3",
   "version": "3.12.5"
  }
 },
 "nbformat": 4,
 "nbformat_minor": 2
}
